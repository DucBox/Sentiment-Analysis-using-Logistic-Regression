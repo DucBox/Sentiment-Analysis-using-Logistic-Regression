{
  "nbformat": 4,
  "nbformat_minor": 0,
  "metadata": {
    "colab": {
      "provenance": [],
      "authorship_tag": "ABX9TyMTxf9S8VMgoDAmqXeeMnWX",
      "include_colab_link": true
    },
    "kernelspec": {
      "name": "python3",
      "display_name": "Python 3"
    },
    "language_info": {
      "name": "python"
    }
  },
  "cells": [
    {
      "cell_type": "markdown",
      "metadata": {
        "id": "view-in-github",
        "colab_type": "text"
      },
      "source": [
        "<a href=\"https://colab.research.google.com/github/DucBox/Sentiment-Analysis-using-Logistic-Regression/blob/main/Sentiment_Analysis_using_Logistic_Regression.ipynb\" target=\"_parent\"><img src=\"https://colab.research.google.com/assets/colab-badge.svg\" alt=\"Open In Colab\"/></a>"
      ]
    },
    {
      "cell_type": "code",
      "execution_count": 4,
      "metadata": {
        "colab": {
          "base_uri": "https://localhost:8080/"
        },
        "id": "zy7LBL8vEjet",
        "outputId": "b9c59d9b-efa9-41e4-ce37-d141ad4355c3"
      },
      "outputs": [
        {
          "output_type": "stream",
          "name": "stderr",
          "text": [
            "[nltk_data] Downloading package twitter_samples to /root/nltk_data...\n",
            "[nltk_data]   Package twitter_samples is already up-to-date!\n",
            "[nltk_data] Downloading package stopwords to /root/nltk_data...\n",
            "[nltk_data]   Package stopwords is already up-to-date!\n"
          ]
        },
        {
          "output_type": "execute_result",
          "data": {
            "text/plain": [
              "True"
            ]
          },
          "metadata": {},
          "execution_count": 4
        }
      ],
      "source": [
        "# run this cell to import nltk\n",
        "import nltk\n",
        "from os import getcwd\n",
        "import w1_unittest\n",
        "\n",
        "nltk.download('twitter_samples')\n",
        "nltk.download('stopwords')"
      ]
    },
    {
      "cell_type": "code",
      "source": [
        "filePath = f\"{getcwd()}/../tmp2/\"\n",
        "nltk.data.path.append(filePath)"
      ],
      "metadata": {
        "id": "MNkXdIw_E1fJ"
      },
      "execution_count": 5,
      "outputs": []
    },
    {
      "cell_type": "code",
      "source": [
        "import numpy as np\n",
        "import pandas as pd\n",
        "from nltk.corpus import twitter_samples\n",
        "\n",
        "from utils import process_tweet, build_freqs"
      ],
      "metadata": {
        "id": "fQbKqdTUE9uC"
      },
      "execution_count": 10,
      "outputs": []
    },
    {
      "cell_type": "code",
      "source": [
        "# select the set of positive and negative tweets\n",
        "all_positive_tweets = twitter_samples.strings('positive_tweets.json')\n",
        "all_negative_tweets = twitter_samples.strings('negative_tweets.json')"
      ],
      "metadata": {
        "id": "gkTm2ZSiFXpP"
      },
      "execution_count": 11,
      "outputs": []
    },
    {
      "cell_type": "code",
      "source": [
        "# split the data into two pieces, one for training and one for testing (validation set)\n",
        "test_pos = all_positive_tweets[4000:]\n",
        "train_pos = all_positive_tweets[:4000]\n",
        "test_neg = all_negative_tweets[4000:]\n",
        "train_neg = all_negative_tweets[:4000]\n",
        "\n",
        "train_x = train_pos + train_neg\n",
        "test_x = test_pos + test_neg"
      ],
      "metadata": {
        "id": "hty6HZVxFahC"
      },
      "execution_count": 12,
      "outputs": []
    },
    {
      "cell_type": "code",
      "source": [
        "# combine positive and negative labels\n",
        "train_y = np.append(np.ones((len(train_pos), 1)), np.zeros((len(train_neg), 1)), axis=0)\n",
        "test_y = np.append(np.ones((len(test_pos), 1)), np.zeros((len(test_neg), 1)), axis=0)"
      ],
      "metadata": {
        "id": "HsLzGkWGFjjx"
      },
      "execution_count": 15,
      "outputs": []
    },
    {
      "cell_type": "code",
      "source": [
        "# Print the shape train and test sets\n",
        "print(\"train_y.shape = \" + str(train_y.shape))\n",
        "print(\"test_y.shape = \" + str(test_y.shape))"
      ],
      "metadata": {
        "colab": {
          "base_uri": "https://localhost:8080/"
        },
        "id": "yKxqN5jKFlUK",
        "outputId": "29189c00-de87-438c-b460-4390dec08a0e"
      },
      "execution_count": 16,
      "outputs": [
        {
          "output_type": "stream",
          "name": "stdout",
          "text": [
            "train_y.shape = (8000, 1)\n",
            "test_y.shape = (2000, 1)\n"
          ]
        }
      ]
    },
    {
      "cell_type": "code",
      "source": [
        "print(train_neg[1000])"
      ],
      "metadata": {
        "colab": {
          "base_uri": "https://localhost:8080/"
        },
        "id": "jtdJr7ECFcsn",
        "outputId": "40f6b122-a201-455b-84b3-c6851942691f"
      },
      "execution_count": 13,
      "outputs": [
        {
          "output_type": "stream",
          "name": "stdout",
          "text": [
            "@seanactual You mean you're not offering? :(\n"
          ]
        }
      ]
    },
    {
      "cell_type": "code",
      "source": [
        "print(train_y[1000])"
      ],
      "metadata": {
        "colab": {
          "base_uri": "https://localhost:8080/"
        },
        "id": "bBaAnnHIFeuh",
        "outputId": "a53e51af-1d68-4417-c98d-318aef54fe54"
      },
      "execution_count": 17,
      "outputs": [
        {
          "output_type": "stream",
          "name": "stdout",
          "text": [
            "[1.]\n"
          ]
        }
      ]
    },
    {
      "cell_type": "code",
      "source": [
        "# create frequency dictionary\n",
        "freqs = build_freqs(train_x, train_y)\n",
        "\n",
        "# check the output\n",
        "print(\"type(freqs) = \" + str(type(freqs)))\n",
        "print(\"len(freqs) = \" + str(len(freqs.keys())))"
      ],
      "metadata": {
        "colab": {
          "base_uri": "https://localhost:8080/"
        },
        "id": "QxzhDQ3cFgCP",
        "outputId": "f1685e5d-a6cc-41d8-9652-8b21bdd61e78"
      },
      "execution_count": 18,
      "outputs": [
        {
          "output_type": "stream",
          "name": "stdout",
          "text": [
            "type(freqs) = <class 'dict'>\n",
            "len(freqs) = 11427\n"
          ]
        }
      ]
    },
    {
      "cell_type": "code",
      "source": [
        "# test the function below\n",
        "print('This is an example of a positive tweet: \\n', train_x[0])\n",
        "print('\\nThis is an example of the processed version of the tweet: \\n', process_tweet(train_x[0]))"
      ],
      "metadata": {
        "colab": {
          "base_uri": "https://localhost:8080/"
        },
        "id": "MaMm-mtCFpp1",
        "outputId": "24bdc672-f4af-4934-c26e-99d343704a2f"
      },
      "execution_count": 19,
      "outputs": [
        {
          "output_type": "stream",
          "name": "stdout",
          "text": [
            "This is an example of a positive tweet: \n",
            " #FollowFriday @France_Inte @PKuchly57 @Milipol_Paris for being top engaged members in my community this week :)\n",
            "\n",
            "This is an example of the processed version of the tweet: \n",
            " ['followfriday', 'top', 'engag', 'member', 'commun', 'week', ':)']\n"
          ]
        }
      ]
    },
    {
      "cell_type": "code",
      "source": [
        "def sigmoid(z):\n",
        "    '''\n",
        "    Input:\n",
        "        z: is the input (can be a scalar or an array)\n",
        "    Output:\n",
        "        h: the sigmoid of z\n",
        "    '''\n",
        "\n",
        "    ### START CODE HERE ###\n",
        "    # calculate the sigmoid of z\n",
        "    h = 1/(1 + np.exp(-z))\n",
        "    ### END CODE HERE ###\n",
        "\n",
        "    return h"
      ],
      "metadata": {
        "id": "hYnRNCLrFrbJ"
      },
      "execution_count": 20,
      "outputs": []
    },
    {
      "cell_type": "code",
      "source": [
        "def gradientDescent(x, y, theta, alpha, num_iters):\n",
        "    '''\n",
        "    Input:\n",
        "        x: matrix of features which is (m,n+1)\n",
        "        y: corresponding labels of the input matrix x, dimensions (m,1)\n",
        "        theta: weight vector of dimension (n+1,1)\n",
        "        alpha: learning rate\n",
        "        num_iters: number of iterations you want to train your model for\n",
        "    Output:\n",
        "        J: the final cost\n",
        "        theta: your final weight vector\n",
        "    '''\n",
        "    m = len(x)  # number of training examples\n",
        "\n",
        "    for i in range(num_iters):\n",
        "        # Get z, the dot product of x and theta\n",
        "        z = np.dot(x, theta)\n",
        "\n",
        "        # Get the sigmoid of z\n",
        "        h = 1 / (1 + np.exp(-z))\n",
        "\n",
        "        # Calculate the cost function\n",
        "        J = (-1/m) * (np.dot(y.T, np.log(h)) + np.dot((1 - y).T, np.log(1 - h)))\n",
        "\n",
        "        # Update the weights theta\n",
        "        theta = theta - (alpha/m) * np.dot(x.T, (h - y))\n",
        "\n",
        "        # Optionally print the cost every 100 iterations\n",
        "        if i % 100 == 0:\n",
        "            print(f\"Iteration {i} - Cost: {J[0]}\")\n",
        "\n",
        "    J = float(J)\n",
        "    return J, theta"
      ],
      "metadata": {
        "id": "uy0Ff17fFw2S"
      },
      "execution_count": 22,
      "outputs": []
    },
    {
      "cell_type": "code",
      "source": [
        "def extract_features(tweet, freqs, process_tweet=process_tweet):\n",
        "    '''\n",
        "    Input:\n",
        "        tweet: a string containing one tweet\n",
        "        freqs: a dictionary corresponding to the frequencies of each tuple (word, label)\n",
        "    Output:\n",
        "        x: a feature vector of dimension (1,3)\n",
        "    '''\n",
        "    # process_tweet tokenizes, stems, and removes stopwords\n",
        "    word_l = process_tweet(tweet)\n",
        "\n",
        "    # 3 elements for [bias, positive, negative] counts\n",
        "    x = np.zeros(3)\n",
        "\n",
        "    # bias term is set to 1\n",
        "    x[0] = 1\n",
        "\n",
        "    ### START CODE HERE ###\n",
        "\n",
        "    # loop through each word in the list of words\n",
        "    for word in word_l:\n",
        "\n",
        "      # increment the word count for the positive label 1\n",
        "        x[1] += freqs.get((word, 1), 0)\n",
        "\n",
        "        # increment the word count for the negative label 0\n",
        "        x[2] += freqs.get((word, 0), 0)\n",
        "\n",
        "    ### END CODE HERE ###\n",
        "\n",
        "    x = x[None, :]  # adding batch dimension for further processing\n",
        "    assert(x.shape == (1, 3))\n",
        "    return x"
      ],
      "metadata": {
        "id": "cmittpSqF2xu"
      },
      "execution_count": 24,
      "outputs": []
    },
    {
      "cell_type": "code",
      "source": [
        "# collect the features 'x' and stack them into a matrix 'X'\n",
        "X = np.zeros((len(train_x), 3))\n",
        "for i in range(len(train_x)):\n",
        "    X[i, :]= extract_features(train_x[i], freqs)\n",
        "\n",
        "# training labels corresponding to X\n",
        "Y = train_y\n",
        "\n",
        "# Apply gradient descent\n",
        "J, theta = gradientDescent(X, Y, np.zeros((3, 1)), 1e-9, 10000)\n",
        "print(f\"The cost after training is {J:.8f}.\")\n",
        "print(f\"The resulting vector of weights is {[round(t, 8) for t in np.squeeze(theta)]}\")\n",
        "\n",
        "import pickle\n",
        "\n",
        "# Giả sử theta là vector trọng số của bạn sau khi huấn luyện\n",
        "model = {\n",
        "    \"theta\": theta,\n",
        "    \"freqs\": freqs,  # lưu các thông số khác nếu cần, ví dụ như freqs nếu bạn dùng nó trong extract_features\n",
        "}\n",
        "\n",
        "# Lưu mô hình vào file\n",
        "with open('logistic_model.pkl', 'wb') as file:\n",
        "    pickle.dump(model, file)\n",
        "\n",
        "print(\"Model saved successfully.\")"
      ],
      "metadata": {
        "colab": {
          "base_uri": "https://localhost:8080/"
        },
        "id": "42ngMiewF7_A",
        "outputId": "649333b3-b54c-41f3-9bdb-c4953342f881"
      },
      "execution_count": 49,
      "outputs": [
        {
          "output_type": "stream",
          "name": "stdout",
          "text": [
            "Iteration 0 - Cost: [0.69314718]\n",
            "Iteration 100 - Cost: [0.59522326]\n",
            "Iteration 200 - Cost: [0.52186107]\n",
            "Iteration 300 - Cost: [0.4654039]\n",
            "Iteration 400 - Cost: [0.42087709]\n",
            "Iteration 500 - Cost: [0.38501586]\n",
            "Iteration 600 - Cost: [0.35561279]\n",
            "Iteration 700 - Cost: [0.33113124]\n",
            "Iteration 800 - Cost: [0.31047349]\n",
            "Iteration 900 - Cost: [0.29283724]\n",
            "Iteration 1000 - Cost: [0.2776243]\n",
            "Iteration 1100 - Cost: [0.26438071]\n",
            "Iteration 1200 - Cost: [0.25275648]\n",
            "Iteration 1300 - Cost: [0.24247801]\n",
            "Iteration 1400 - Cost: [0.23332866]\n",
            "Iteration 1500 - Cost: [0.22513495]\n",
            "Iteration 1600 - Cost: [0.21775647]\n",
            "Iteration 1700 - Cost: [0.21107852]\n",
            "Iteration 1800 - Cost: [0.20500656]\n",
            "Iteration 1900 - Cost: [0.19946205]\n",
            "Iteration 2000 - Cost: [0.19437923]\n",
            "Iteration 2100 - Cost: [0.18970269]\n",
            "Iteration 2200 - Cost: [0.18538542]\n",
            "Iteration 2300 - Cost: [0.1813873]\n",
            "Iteration 2400 - Cost: [0.17767392]\n",
            "Iteration 2500 - Cost: [0.17421556]\n",
            "Iteration 2600 - Cost: [0.17098647]\n",
            "Iteration 2700 - Cost: [0.16796425]\n",
            "Iteration 2800 - Cost: [0.16512927]\n",
            "Iteration 2900 - Cost: [0.1624643]\n",
            "Iteration 3000 - Cost: [0.15995416]\n",
            "Iteration 3100 - Cost: [0.1575854]\n",
            "Iteration 3200 - Cost: [0.15534609]\n",
            "Iteration 3300 - Cost: [0.1532256]\n",
            "Iteration 3400 - Cost: [0.15121442]\n",
            "Iteration 3500 - Cost: [0.14930404]\n",
            "Iteration 3600 - Cost: [0.14748679]\n",
            "Iteration 3700 - Cost: [0.14575579]\n",
            "Iteration 3800 - Cost: [0.14410479]\n",
            "Iteration 3900 - Cost: [0.14252815]\n",
            "Iteration 4000 - Cost: [0.14102074]\n",
            "Iteration 4100 - Cost: [0.13957789]\n",
            "Iteration 4200 - Cost: [0.13819536]\n",
            "Iteration 4300 - Cost: [0.13686925]\n",
            "Iteration 4400 - Cost: [0.13559601]\n",
            "Iteration 4500 - Cost: [0.13437237]\n",
            "Iteration 4600 - Cost: [0.13319533]\n",
            "Iteration 4700 - Cost: [0.13206214]\n",
            "Iteration 4800 - Cost: [0.13097025]\n",
            "Iteration 4900 - Cost: [0.12991731]\n",
            "Iteration 5000 - Cost: [0.12890114]\n",
            "Iteration 5100 - Cost: [0.12791972]\n",
            "Iteration 5200 - Cost: [0.1269712]\n",
            "Iteration 5300 - Cost: [0.12605384]\n",
            "Iteration 5400 - Cost: [0.12516602]\n",
            "Iteration 5500 - Cost: [0.12430624]\n",
            "Iteration 5600 - Cost: [0.1234731]\n",
            "Iteration 5700 - Cost: [0.12266528]\n",
            "Iteration 5800 - Cost: [0.12188157]\n",
            "Iteration 5900 - Cost: [0.12112082]\n",
            "Iteration 6000 - Cost: [0.12038196]\n",
            "Iteration 6100 - Cost: [0.11966398]\n",
            "Iteration 6200 - Cost: [0.11896594]\n",
            "Iteration 6300 - Cost: [0.11828695]\n",
            "Iteration 6400 - Cost: [0.11762618]\n",
            "Iteration 6500 - Cost: [0.11698283]\n",
            "Iteration 6600 - Cost: [0.11635617]\n",
            "Iteration 6700 - Cost: [0.11574551]\n",
            "Iteration 6800 - Cost: [0.11515017]\n",
            "Iteration 6900 - Cost: [0.11456955]\n",
            "Iteration 7000 - Cost: [0.11400304]\n",
            "Iteration 7100 - Cost: [0.1134501]\n",
            "Iteration 7200 - Cost: [0.11291019]\n",
            "Iteration 7300 - Cost: [0.11238282]\n",
            "Iteration 7400 - Cost: [0.1118675]\n",
            "Iteration 7500 - Cost: [0.11136379]\n",
            "Iteration 7600 - Cost: [0.11087127]\n",
            "Iteration 7700 - Cost: [0.11038952]\n",
            "Iteration 7800 - Cost: [0.10991815]\n",
            "Iteration 7900 - Cost: [0.10945681]\n",
            "Iteration 8000 - Cost: [0.10900513]\n",
            "Iteration 8100 - Cost: [0.1085628]\n",
            "Iteration 8200 - Cost: [0.10812948]\n",
            "Iteration 8300 - Cost: [0.10770487]\n",
            "Iteration 8400 - Cost: [0.10728868]\n",
            "Iteration 8500 - Cost: [0.10688065]\n",
            "Iteration 8600 - Cost: [0.10648049]\n",
            "Iteration 8700 - Cost: [0.10608797]\n",
            "Iteration 8800 - Cost: [0.10570283]\n",
            "Iteration 8900 - Cost: [0.10532485]\n",
            "Iteration 9000 - Cost: [0.1049538]\n",
            "Iteration 9100 - Cost: [0.10458948]\n",
            "Iteration 9200 - Cost: [0.10423167]\n",
            "Iteration 9300 - Cost: [0.10388019]\n",
            "Iteration 9400 - Cost: [0.10353484]\n",
            "Iteration 9500 - Cost: [0.10319545]\n",
            "Iteration 9600 - Cost: [0.10286184]\n",
            "Iteration 9700 - Cost: [0.10253385]\n",
            "Iteration 9800 - Cost: [0.10221132]\n",
            "Iteration 9900 - Cost: [0.10189409]\n",
            "The cost after training is 0.10158512.\n",
            "The resulting vector of weights is [3.1e-07, 0.00127481, -0.00110868]\n",
            "Model saved successfully.\n"
          ]
        },
        {
          "output_type": "stream",
          "name": "stderr",
          "text": [
            "<ipython-input-22-f25ee51c6219>:32: DeprecationWarning: Conversion of an array with ndim > 0 to a scalar is deprecated, and will error in future. Ensure you extract a single element from your array before performing this operation. (Deprecated NumPy 1.25.)\n",
            "  J = float(J)\n"
          ]
        }
      ]
    },
    {
      "cell_type": "code",
      "source": [
        "def predict_tweet(tweet, freqs, theta):\n",
        "    '''\n",
        "    Input:\n",
        "        tweet: a string\n",
        "        freqs: a dictionary corresponding to the frequencies of each tuple (word, label)\n",
        "        theta: (3,1) vector of weights\n",
        "    Output:\n",
        "        y_pred: the probability of a tweet being positive or negative\n",
        "    '''\n",
        "    ### START CODE HERE ###\n",
        "\n",
        "    # extract the features of the tweet and store it into x\n",
        "    x = extract_features(tweet, freqs)\n",
        "    # make the prediction using x and theta\n",
        "    z = np.dot(x, theta)\n",
        "    y_pred = 1 / (1 + np.exp(-z))\n",
        "\n",
        "    ### END CODE HERE ###\n",
        "\n",
        "    return y_pred"
      ],
      "metadata": {
        "id": "ObPGPRuNF90T"
      },
      "execution_count": 43,
      "outputs": []
    },
    {
      "cell_type": "code",
      "source": [
        "# Run this cell to test your function\n",
        "for tweet in ['I am happy', 'I am bad', 'this movie should have been great.', 'great', 'great great', 'great great great', 'great great great great']:\n",
        "    print( '%s -> %f' % (tweet, predict_tweet(tweet, freqs, theta)))\n",
        ""
      ],
      "metadata": {
        "colab": {
          "base_uri": "https://localhost:8080/"
        },
        "id": "DvLivXahGFp5",
        "outputId": "b1b0707d-f53e-4828-b2b2-e89b8aecc100"
      },
      "execution_count": 44,
      "outputs": [
        {
          "output_type": "stream",
          "name": "stdout",
          "text": [
            "I am happy -> 0.553817\n",
            "I am bad -> 0.488441\n",
            "this movie should have been great. -> 0.545885\n",
            "great -> 0.544901\n",
            "great great -> 0.589083\n",
            "great great great -> 0.631873\n",
            "great great great great -> 0.672684\n"
          ]
        },
        {
          "output_type": "stream",
          "name": "stderr",
          "text": [
            "<ipython-input-44-4fb6e5b5a511>:3: DeprecationWarning: Conversion of an array with ndim > 0 to a scalar is deprecated, and will error in future. Ensure you extract a single element from your array before performing this operation. (Deprecated NumPy 1.25.)\n",
            "  print( '%s -> %f' % (tweet, predict_tweet(tweet, freqs, theta)))\n"
          ]
        }
      ]
    },
    {
      "cell_type": "code",
      "source": [
        "# Feel free to change the tweet below\n",
        "my_tweet = 'I am very disappointed with the product quality. It broke after just one use.'\n",
        "print(process_tweet(my_tweet))\n",
        "y_hat = predict_tweet(my_tweet, freqs, theta)\n",
        "print(y_hat)\n",
        "if y_hat > 0.5:\n",
        "    print('Positive sentiment')\n",
        "else:\n",
        "    print('Negative sentiment')"
      ],
      "metadata": {
        "colab": {
          "base_uri": "https://localhost:8080/"
        },
        "id": "rLYwKhWSGG5S",
        "outputId": "3d57e0a8-903c-4be0-e770-568519c77ad2"
      },
      "execution_count": 45,
      "outputs": [
        {
          "output_type": "stream",
          "name": "stdout",
          "text": [
            "['disappoint', 'product', 'qualiti', 'broke', 'one', 'use']\n",
            "[[0.49889379]]\n",
            "Negative sentiment\n"
          ]
        }
      ]
    },
    {
      "cell_type": "code",
      "source": [
        "import pickle\n",
        "\n",
        "# Tải mô hình từ file\n",
        "with open('/content/logistic_model.pkl', 'rb') as file:\n",
        "    loaded_model = pickle.load(file)\n",
        "\n",
        "theta1 = loaded_model[\"theta\"]\n",
        "freqs1 = loaded_model[\"freqs\"]  # tải các thông số khác nếu cần\n",
        "\n",
        "print(\"Model loaded successfully.\")\n",
        "print(f\"The loaded vector of weights is {[round(t, 8) for t in np.squeeze(theta)]}\")\n"
      ],
      "metadata": {
        "colab": {
          "base_uri": "https://localhost:8080/"
        },
        "id": "mf_q9wKlGOfk",
        "outputId": "b9f2885f-9562-4277-9e34-6d3b5024bc03"
      },
      "execution_count": 50,
      "outputs": [
        {
          "output_type": "stream",
          "name": "stdout",
          "text": [
            "Model loaded successfully.\n",
            "The loaded vector of weights is [3.1e-07, 0.00127481, -0.00110868]\n"
          ]
        }
      ]
    },
    {
      "cell_type": "code",
      "source": [
        "# Feel free to change the tweet below\n",
        "my_tweet = 'I am very disappointed with the product quality. It broke after just one use.'\n",
        "print(process_tweet(my_tweet))\n",
        "y_hat = predict_tweet(my_tweet, freqs1, theta1)\n",
        "print(y_hat)\n",
        "if y_hat > 0.5:\n",
        "    print('Positive sentiment')\n",
        "else:\n",
        "    print('Negative sentiment')"
      ],
      "metadata": {
        "colab": {
          "base_uri": "https://localhost:8080/"
        },
        "id": "iFeja4MdHmnc",
        "outputId": "7a864e02-d7e0-4710-bed5-56ea8962121f"
      },
      "execution_count": 51,
      "outputs": [
        {
          "output_type": "stream",
          "name": "stdout",
          "text": [
            "['disappoint', 'product', 'qualiti', 'broke', 'one', 'use']\n",
            "[[0.4974998]]\n",
            "Negative sentiment\n"
          ]
        }
      ]
    },
    {
      "cell_type": "code",
      "source": [],
      "metadata": {
        "id": "w5JcFmZGHu4F"
      },
      "execution_count": null,
      "outputs": []
    }
  ]
}